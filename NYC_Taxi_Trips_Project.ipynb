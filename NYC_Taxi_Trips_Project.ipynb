{
  "nbformat": 4,
  "nbformat_minor": 0,
  "metadata": {
    "colab": {
      "provenance": [],
      "collapsed_sections": [
        "2rB0oma6dcxD"
      ],
      "mount_file_id": "1VWGPJ-xOqOdcgQbhrUftWi6Cs22F7K0v",
      "authorship_tag": "ABX9TyPeXts5ia6bawA29LoMkiS3",
      "include_colab_link": true
    },
    "kernelspec": {
      "name": "python3",
      "display_name": "Python 3"
    },
    "language_info": {
      "name": "python"
    }
  },
  "cells": [
    {
      "cell_type": "markdown",
      "metadata": {
        "id": "view-in-github",
        "colab_type": "text"
      },
      "source": [
        "<a href=\"https://colab.research.google.com/github/AnSaradar/NYC_Taxi_Driver_Analysis/blob/main/NYC_Taxi_Trips_Project.ipynb\" target=\"_parent\"><img src=\"https://colab.research.google.com/assets/colab-badge.svg\" alt=\"Open In Colab\"/></a>"
      ]
    },
    {
      "cell_type": "markdown",
      "source": [
        "# **Setup & Import Dask**"
      ],
      "metadata": {
        "id": "1qFukHoK-620"
      }
    },
    {
      "cell_type": "code",
      "source": [
        "# External dependencies\n",
        "import os\n",
        "import shutil\n",
        "import warnings\n",
        "import numpy as np\n",
        "import zipfile\n",
        "import matplotlib.pyplot as plt\n",
        "from os import path\n",
        "\n",
        "\n",
        "warnings.filterwarnings(\"ignore\")"
      ],
      "metadata": {
        "id": "HEuN6jE-_dyE"
      },
      "execution_count": 10,
      "outputs": []
    },
    {
      "cell_type": "code",
      "source": [
        "!pip install dask"
      ],
      "metadata": {
        "colab": {
          "base_uri": "https://localhost:8080/"
        },
        "id": "RfqhUHxYkVNB",
        "outputId": "d47bea4e-2cc9-464d-e03c-ba7c3ca13a95"
      },
      "execution_count": 11,
      "outputs": [
        {
          "output_type": "stream",
          "name": "stdout",
          "text": [
            "Looking in indexes: https://pypi.org/simple, https://us-python.pkg.dev/colab-wheels/public/simple/\n",
            "Requirement already satisfied: dask in /usr/local/lib/python3.10/dist-packages (2022.12.1)\n",
            "Requirement already satisfied: click>=7.0 in /usr/local/lib/python3.10/dist-packages (from dask) (8.1.3)\n",
            "Requirement already satisfied: cloudpickle>=1.1.1 in /usr/local/lib/python3.10/dist-packages (from dask) (2.2.1)\n",
            "Requirement already satisfied: fsspec>=0.6.0 in /usr/local/lib/python3.10/dist-packages (from dask) (2023.4.0)\n",
            "Requirement already satisfied: packaging>=20.0 in /usr/local/lib/python3.10/dist-packages (from dask) (23.1)\n",
            "Requirement already satisfied: partd>=0.3.10 in /usr/local/lib/python3.10/dist-packages (from dask) (1.4.0)\n",
            "Requirement already satisfied: pyyaml>=5.3.1 in /usr/local/lib/python3.10/dist-packages (from dask) (6.0)\n",
            "Requirement already satisfied: toolz>=0.8.2 in /usr/local/lib/python3.10/dist-packages (from dask) (0.12.0)\n",
            "Requirement already satisfied: locket in /usr/local/lib/python3.10/dist-packages (from partd>=0.3.10->dask) (1.0.0)\n"
          ]
        }
      ]
    },
    {
      "cell_type": "code",
      "source": [
        "dd.set_option(\"display.max_rows\", None)"
      ],
      "metadata": {
        "id": "2iydeYO97-fz"
      },
      "execution_count": null,
      "outputs": []
    },
    {
      "cell_type": "markdown",
      "source": [
        "# Loading the Data"
      ],
      "metadata": {
        "id": "2rB0oma6dcxD"
      }
    },
    {
      "cell_type": "code",
      "source": [
        "import dask.dataframe as dd"
      ],
      "metadata": {
        "id": "03Hn3sIQkYIP"
      },
      "execution_count": 43,
      "outputs": []
    },
    {
      "cell_type": "code",
      "source": [
        "zip_path = \"/content/drive/MyDrive/Datasets/Copy of nyc_taxi_data.zip\"\n",
        "extract_dir = '/content/sample_data'"
      ],
      "metadata": {
        "id": "IfyUB5X_Lfho"
      },
      "execution_count": 44,
      "outputs": []
    },
    {
      "cell_type": "code",
      "source": [
        "shutil.unpack_archive(zip_path, extract_dir)\n"
      ],
      "metadata": {
        "id": "vZsR2XgqMmq2"
      },
      "execution_count": 45,
      "outputs": []
    },
    {
      "cell_type": "code",
      "source": [
        "df = dd.read_parquet('/content/sample_data/nyc_taxi_alt/*.parquet')\n",
        "df.head()"
      ],
      "metadata": {
        "colab": {
          "base_uri": "https://localhost:8080/",
          "height": 0
        },
        "id": "m-XtNQdNMqzl",
        "outputId": "03ede045-af41-4ef0-903e-56f4d19beb7e"
      },
      "execution_count": 46,
      "outputs": [
        {
          "output_type": "execute_result",
          "data": {
            "text/plain": [
              "   VendorID tpep_pickup_datetime tpep_dropoff_datetime  passenger_count  \\\n",
              "0         1  2019-01-01 00:46:40   2019-01-01 00:53:20              1.0   \n",
              "1         1  2019-01-01 00:59:47   2019-01-01 01:18:59              1.0   \n",
              "2         2  2018-12-21 13:48:30   2018-12-21 13:52:40              3.0   \n",
              "3         2  2018-11-28 15:52:25   2018-11-28 15:55:45              5.0   \n",
              "4         2  2018-11-28 15:56:57   2018-11-28 15:58:33              5.0   \n",
              "\n",
              "   trip_distance  RatecodeID store_and_fwd_flag  PULocationID  DOLocationID  \\\n",
              "0            1.5         1.0                  N           151           239   \n",
              "1            2.6         1.0                  N           239           246   \n",
              "2            0.0         1.0                  N           236           236   \n",
              "3            0.0         1.0                  N           193           193   \n",
              "4            0.0         2.0                  N           193           193   \n",
              "\n",
              "   payment_type  fare_amount  extra  mta_tax  tip_amount  tolls_amount  \\\n",
              "0             1          7.0    0.5      0.5        1.65           0.0   \n",
              "1             1         14.0    0.5      0.5        1.00           0.0   \n",
              "2             1          4.5    0.5      0.5        0.00           0.0   \n",
              "3             2          3.5    0.5      0.5        0.00           0.0   \n",
              "4             2         52.0    0.0      0.5        0.00           0.0   \n",
              "\n",
              "   improvement_surcharge  total_amount  congestion_surcharge  airport_fee  \n",
              "0                    0.3          9.95                   NaN          NaN  \n",
              "1                    0.3         16.30                   NaN          NaN  \n",
              "2                    0.3          5.80                   NaN          NaN  \n",
              "3                    0.3          7.55                   NaN          NaN  \n",
              "4                    0.3         55.55                   NaN          NaN  "
            ],
            "text/html": [
              "\n",
              "  <div id=\"df-d82fe9bd-5b40-4d11-bd02-b21a9248c781\">\n",
              "    <div class=\"colab-df-container\">\n",
              "      <div>\n",
              "<style scoped>\n",
              "    .dataframe tbody tr th:only-of-type {\n",
              "        vertical-align: middle;\n",
              "    }\n",
              "\n",
              "    .dataframe tbody tr th {\n",
              "        vertical-align: top;\n",
              "    }\n",
              "\n",
              "    .dataframe thead th {\n",
              "        text-align: right;\n",
              "    }\n",
              "</style>\n",
              "<table border=\"1\" class=\"dataframe\">\n",
              "  <thead>\n",
              "    <tr style=\"text-align: right;\">\n",
              "      <th></th>\n",
              "      <th>VendorID</th>\n",
              "      <th>tpep_pickup_datetime</th>\n",
              "      <th>tpep_dropoff_datetime</th>\n",
              "      <th>passenger_count</th>\n",
              "      <th>trip_distance</th>\n",
              "      <th>RatecodeID</th>\n",
              "      <th>store_and_fwd_flag</th>\n",
              "      <th>PULocationID</th>\n",
              "      <th>DOLocationID</th>\n",
              "      <th>payment_type</th>\n",
              "      <th>fare_amount</th>\n",
              "      <th>extra</th>\n",
              "      <th>mta_tax</th>\n",
              "      <th>tip_amount</th>\n",
              "      <th>tolls_amount</th>\n",
              "      <th>improvement_surcharge</th>\n",
              "      <th>total_amount</th>\n",
              "      <th>congestion_surcharge</th>\n",
              "      <th>airport_fee</th>\n",
              "    </tr>\n",
              "  </thead>\n",
              "  <tbody>\n",
              "    <tr>\n",
              "      <th>0</th>\n",
              "      <td>1</td>\n",
              "      <td>2019-01-01 00:46:40</td>\n",
              "      <td>2019-01-01 00:53:20</td>\n",
              "      <td>1.0</td>\n",
              "      <td>1.5</td>\n",
              "      <td>1.0</td>\n",
              "      <td>N</td>\n",
              "      <td>151</td>\n",
              "      <td>239</td>\n",
              "      <td>1</td>\n",
              "      <td>7.0</td>\n",
              "      <td>0.5</td>\n",
              "      <td>0.5</td>\n",
              "      <td>1.65</td>\n",
              "      <td>0.0</td>\n",
              "      <td>0.3</td>\n",
              "      <td>9.95</td>\n",
              "      <td>NaN</td>\n",
              "      <td>NaN</td>\n",
              "    </tr>\n",
              "    <tr>\n",
              "      <th>1</th>\n",
              "      <td>1</td>\n",
              "      <td>2019-01-01 00:59:47</td>\n",
              "      <td>2019-01-01 01:18:59</td>\n",
              "      <td>1.0</td>\n",
              "      <td>2.6</td>\n",
              "      <td>1.0</td>\n",
              "      <td>N</td>\n",
              "      <td>239</td>\n",
              "      <td>246</td>\n",
              "      <td>1</td>\n",
              "      <td>14.0</td>\n",
              "      <td>0.5</td>\n",
              "      <td>0.5</td>\n",
              "      <td>1.00</td>\n",
              "      <td>0.0</td>\n",
              "      <td>0.3</td>\n",
              "      <td>16.30</td>\n",
              "      <td>NaN</td>\n",
              "      <td>NaN</td>\n",
              "    </tr>\n",
              "    <tr>\n",
              "      <th>2</th>\n",
              "      <td>2</td>\n",
              "      <td>2018-12-21 13:48:30</td>\n",
              "      <td>2018-12-21 13:52:40</td>\n",
              "      <td>3.0</td>\n",
              "      <td>0.0</td>\n",
              "      <td>1.0</td>\n",
              "      <td>N</td>\n",
              "      <td>236</td>\n",
              "      <td>236</td>\n",
              "      <td>1</td>\n",
              "      <td>4.5</td>\n",
              "      <td>0.5</td>\n",
              "      <td>0.5</td>\n",
              "      <td>0.00</td>\n",
              "      <td>0.0</td>\n",
              "      <td>0.3</td>\n",
              "      <td>5.80</td>\n",
              "      <td>NaN</td>\n",
              "      <td>NaN</td>\n",
              "    </tr>\n",
              "    <tr>\n",
              "      <th>3</th>\n",
              "      <td>2</td>\n",
              "      <td>2018-11-28 15:52:25</td>\n",
              "      <td>2018-11-28 15:55:45</td>\n",
              "      <td>5.0</td>\n",
              "      <td>0.0</td>\n",
              "      <td>1.0</td>\n",
              "      <td>N</td>\n",
              "      <td>193</td>\n",
              "      <td>193</td>\n",
              "      <td>2</td>\n",
              "      <td>3.5</td>\n",
              "      <td>0.5</td>\n",
              "      <td>0.5</td>\n",
              "      <td>0.00</td>\n",
              "      <td>0.0</td>\n",
              "      <td>0.3</td>\n",
              "      <td>7.55</td>\n",
              "      <td>NaN</td>\n",
              "      <td>NaN</td>\n",
              "    </tr>\n",
              "    <tr>\n",
              "      <th>4</th>\n",
              "      <td>2</td>\n",
              "      <td>2018-11-28 15:56:57</td>\n",
              "      <td>2018-11-28 15:58:33</td>\n",
              "      <td>5.0</td>\n",
              "      <td>0.0</td>\n",
              "      <td>2.0</td>\n",
              "      <td>N</td>\n",
              "      <td>193</td>\n",
              "      <td>193</td>\n",
              "      <td>2</td>\n",
              "      <td>52.0</td>\n",
              "      <td>0.0</td>\n",
              "      <td>0.5</td>\n",
              "      <td>0.00</td>\n",
              "      <td>0.0</td>\n",
              "      <td>0.3</td>\n",
              "      <td>55.55</td>\n",
              "      <td>NaN</td>\n",
              "      <td>NaN</td>\n",
              "    </tr>\n",
              "  </tbody>\n",
              "</table>\n",
              "</div>\n",
              "      <button class=\"colab-df-convert\" onclick=\"convertToInteractive('df-d82fe9bd-5b40-4d11-bd02-b21a9248c781')\"\n",
              "              title=\"Convert this dataframe to an interactive table.\"\n",
              "              style=\"display:none;\">\n",
              "        \n",
              "  <svg xmlns=\"http://www.w3.org/2000/svg\" height=\"24px\"viewBox=\"0 0 24 24\"\n",
              "       width=\"24px\">\n",
              "    <path d=\"M0 0h24v24H0V0z\" fill=\"none\"/>\n",
              "    <path d=\"M18.56 5.44l.94 2.06.94-2.06 2.06-.94-2.06-.94-.94-2.06-.94 2.06-2.06.94zm-11 1L8.5 8.5l.94-2.06 2.06-.94-2.06-.94L8.5 2.5l-.94 2.06-2.06.94zm10 10l.94 2.06.94-2.06 2.06-.94-2.06-.94-.94-2.06-.94 2.06-2.06.94z\"/><path d=\"M17.41 7.96l-1.37-1.37c-.4-.4-.92-.59-1.43-.59-.52 0-1.04.2-1.43.59L10.3 9.45l-7.72 7.72c-.78.78-.78 2.05 0 2.83L4 21.41c.39.39.9.59 1.41.59.51 0 1.02-.2 1.41-.59l7.78-7.78 2.81-2.81c.8-.78.8-2.07 0-2.86zM5.41 20L4 18.59l7.72-7.72 1.47 1.35L5.41 20z\"/>\n",
              "  </svg>\n",
              "      </button>\n",
              "      \n",
              "  <style>\n",
              "    .colab-df-container {\n",
              "      display:flex;\n",
              "      flex-wrap:wrap;\n",
              "      gap: 12px;\n",
              "    }\n",
              "\n",
              "    .colab-df-convert {\n",
              "      background-color: #E8F0FE;\n",
              "      border: none;\n",
              "      border-radius: 50%;\n",
              "      cursor: pointer;\n",
              "      display: none;\n",
              "      fill: #1967D2;\n",
              "      height: 32px;\n",
              "      padding: 0 0 0 0;\n",
              "      width: 32px;\n",
              "    }\n",
              "\n",
              "    .colab-df-convert:hover {\n",
              "      background-color: #E2EBFA;\n",
              "      box-shadow: 0px 1px 2px rgba(60, 64, 67, 0.3), 0px 1px 3px 1px rgba(60, 64, 67, 0.15);\n",
              "      fill: #174EA6;\n",
              "    }\n",
              "\n",
              "    [theme=dark] .colab-df-convert {\n",
              "      background-color: #3B4455;\n",
              "      fill: #D2E3FC;\n",
              "    }\n",
              "\n",
              "    [theme=dark] .colab-df-convert:hover {\n",
              "      background-color: #434B5C;\n",
              "      box-shadow: 0px 1px 3px 1px rgba(0, 0, 0, 0.15);\n",
              "      filter: drop-shadow(0px 1px 2px rgba(0, 0, 0, 0.3));\n",
              "      fill: #FFFFFF;\n",
              "    }\n",
              "  </style>\n",
              "\n",
              "      <script>\n",
              "        const buttonEl =\n",
              "          document.querySelector('#df-d82fe9bd-5b40-4d11-bd02-b21a9248c781 button.colab-df-convert');\n",
              "        buttonEl.style.display =\n",
              "          google.colab.kernel.accessAllowed ? 'block' : 'none';\n",
              "\n",
              "        async function convertToInteractive(key) {\n",
              "          const element = document.querySelector('#df-d82fe9bd-5b40-4d11-bd02-b21a9248c781');\n",
              "          const dataTable =\n",
              "            await google.colab.kernel.invokeFunction('convertToInteractive',\n",
              "                                                     [key], {});\n",
              "          if (!dataTable) return;\n",
              "\n",
              "          const docLinkHtml = 'Like what you see? Visit the ' +\n",
              "            '<a target=\"_blank\" href=https://colab.research.google.com/notebooks/data_table.ipynb>data table notebook</a>'\n",
              "            + ' to learn more about interactive tables.';\n",
              "          element.innerHTML = '';\n",
              "          dataTable['output_type'] = 'display_data';\n",
              "          await google.colab.output.renderOutput(dataTable, element);\n",
              "          const docLink = document.createElement('div');\n",
              "          docLink.innerHTML = docLinkHtml;\n",
              "          element.appendChild(docLink);\n",
              "        }\n",
              "      </script>\n",
              "    </div>\n",
              "  </div>\n",
              "  "
            ]
          },
          "metadata": {},
          "execution_count": 46
        }
      ]
    },
    {
      "cell_type": "markdown",
      "source": [
        "# **Discovering the Data**"
      ],
      "metadata": {
        "id": "6MEs34FBkjs4"
      }
    },
    {
      "cell_type": "code",
      "source": [
        "from dask import delayed, compute, visualize, dataframe\n",
        "from dask.distributed import Client"
      ],
      "metadata": {
        "id": "A1TZmeuCpRhR"
      },
      "execution_count": 16,
      "outputs": []
    },
    {
      "cell_type": "code",
      "source": [
        "print(\"Number of rows:\", df.shape[0].compute())\n",
        "print(\"Number of columns:\", len(df.columns))"
      ],
      "metadata": {
        "colab": {
          "base_uri": "https://localhost:8080/"
        },
        "id": "Z78j-Z36RSr-",
        "outputId": "5e3e2382-d3a7-4423-dad7-f6e37e38b644"
      },
      "execution_count": null,
      "outputs": [
        {
          "output_type": "stream",
          "name": "stdout",
          "text": [
            "Number of rows: 179311700\n",
            "Number of columns: 19\n"
          ]
        }
      ]
    },
    {
      "cell_type": "code",
      "source": [
        "df.isnull().sum().compute()"
      ],
      "metadata": {
        "colab": {
          "base_uri": "https://localhost:8080/"
        },
        "id": "Q1M-yZXcTpY6",
        "outputId": "ec1019f2-c012-4f78-b4ed-7a3250731702"
      },
      "execution_count": null,
      "outputs": [
        {
          "output_type": "execute_result",
          "data": {
            "text/plain": [
              "VendorID                         0\n",
              "tpep_pickup_datetime             0\n",
              "tpep_dropoff_datetime            0\n",
              "passenger_count            3872186\n",
              "trip_distance                    0\n",
              "RatecodeID                 3872186\n",
              "store_and_fwd_flag         3872186\n",
              "PULocationID                     0\n",
              "DOLocationID                     0\n",
              "payment_type                     0\n",
              "fare_amount                      0\n",
              "extra                            0\n",
              "mta_tax                          0\n",
              "tip_amount                       0\n",
              "tolls_amount                     0\n",
              "improvement_surcharge            0\n",
              "total_amount                     0\n",
              "congestion_surcharge       8660504\n",
              "airport_fee              115760994\n",
              "dtype: int64"
            ]
          },
          "metadata": {},
          "execution_count": 32
        }
      ]
    },
    {
      "cell_type": "code",
      "source": [
        "df.dtypes"
      ],
      "metadata": {
        "colab": {
          "base_uri": "https://localhost:8080/"
        },
        "id": "B0495XDkT9l9",
        "outputId": "12b463ad-6d28-4fec-9e35-a8ddc21bf902"
      },
      "execution_count": null,
      "outputs": [
        {
          "output_type": "execute_result",
          "data": {
            "text/plain": [
              "VendorID                          int64\n",
              "tpep_pickup_datetime     datetime64[ns]\n",
              "tpep_dropoff_datetime    datetime64[ns]\n",
              "passenger_count                 float64\n",
              "trip_distance                   float64\n",
              "RatecodeID                      float64\n",
              "store_and_fwd_flag               object\n",
              "PULocationID                      int64\n",
              "DOLocationID                      int64\n",
              "payment_type                      int64\n",
              "fare_amount                     float64\n",
              "extra                           float64\n",
              "mta_tax                         float64\n",
              "tip_amount                      float64\n",
              "tolls_amount                    float64\n",
              "improvement_surcharge           float64\n",
              "total_amount                    float64\n",
              "congestion_surcharge            float64\n",
              "airport_fee                     float64\n",
              "dtype: object"
            ]
          },
          "metadata": {},
          "execution_count": 37
        }
      ]
    },
    {
      "cell_type": "code",
      "source": [
        "df.airport_fee.value_counts().compute()"
      ],
      "metadata": {
        "colab": {
          "base_uri": "https://localhost:8080/"
        },
        "id": "lRJCnciCqTjJ",
        "outputId": "8f33d7c0-dce8-4707-8fb1-4f25e3f09a98"
      },
      "execution_count": null,
      "outputs": [
        {
          "output_type": "execute_result",
          "data": {
            "text/plain": [
              " 0.00    59042827\n",
              " 1.25     4471301\n",
              "-1.25       36577\n",
              " 0.50           1\n",
              "Name: airport_fee, dtype: int64"
            ]
          },
          "metadata": {},
          "execution_count": 38
        }
      ]
    },
    {
      "cell_type": "code",
      "source": [
        "df.passenger_count.value_counts().compute()"
      ],
      "metadata": {
        "colab": {
          "base_uri": "https://localhost:8080/"
        },
        "id": "SfTieX5OgIXM",
        "outputId": "35f23263-859d-465e-fccd-16330682ac7a"
      },
      "execution_count": 8,
      "outputs": [
        {
          "output_type": "execute_result",
          "data": {
            "text/plain": [
              "1.0      126123945\n",
              "2.0       26414914\n",
              "3.0        7162781\n",
              "5.0        5554004\n",
              "0.0        3482482\n",
              "6.0        3425107\n",
              "4.0        3274587\n",
              "7.0            809\n",
              "8.0            524\n",
              "9.0            359\n",
              "96.0             1\n",
              "112.0            1\n",
              "Name: passenger_count, dtype: int64"
            ]
          },
          "metadata": {},
          "execution_count": 8
        }
      ]
    },
    {
      "cell_type": "code",
      "source": [
        "df.congestion_surcharge.value_counts().compute()"
      ],
      "metadata": {
        "colab": {
          "base_uri": "https://localhost:8080/"
        },
        "id": "zaFvVHQ-wXiQ",
        "outputId": "6bd75824-fe74-4e93-d8b8-eb1c9f94481d"
      },
      "execution_count": 32,
      "outputs": [
        {
          "output_type": "execute_result",
          "data": {
            "text/plain": [
              " 2.50    145092336\n",
              " 0.00     14554138\n",
              "-2.50       452796\n",
              " 0.75         1195\n",
              " 2.75          673\n",
              " 0.50           44\n",
              " 1.00           25\n",
              "-0.75            9\n",
              " 1.50            4\n",
              " 0.80            2\n",
              "-1.50            1\n",
              " 0.30            1\n",
              " 1.80            1\n",
              " 2.25            1\n",
              " 3.00            1\n",
              "Name: congestion_surcharge, dtype: int64"
            ]
          },
          "metadata": {},
          "execution_count": 32
        }
      ]
    },
    {
      "cell_type": "code",
      "source": [
        "df.describe().compute()"
      ],
      "metadata": {
        "colab": {
          "base_uri": "https://localhost:8080/",
          "height": 381
        },
        "id": "d1xt9W26rd-Q",
        "outputId": "2347a644-fce7-4e97-c925-9070a95102f5"
      },
      "execution_count": null,
      "outputs": [
        {
          "output_type": "execute_result",
          "data": {
            "text/plain": [
              "           VendorID  passenger_count  trip_distance    RatecodeID  \\\n",
              "count  1.793117e+08     1.754395e+08   1.793117e+08  1.754395e+08   \n",
              "mean   1.671094e+00     1.492676e+00   4.405538e+00  1.143369e+00   \n",
              "std    4.698158e-01     1.119885e+00   4.219229e+02  2.890464e+00   \n",
              "min    1.000000e+00     0.000000e+00  -3.726453e+04  1.000000e+00   \n",
              "25%    2.000000e+00     1.000000e+00   1.390000e+00  1.000000e+00   \n",
              "50%    2.000000e+00     1.000000e+00   2.530000e+00  1.000000e+00   \n",
              "75%    2.000000e+00     2.000000e+00   6.420000e+00  1.000000e+00   \n",
              "max    2.000000e+00     1.120000e+02   3.896785e+05  9.900000e+01   \n",
              "\n",
              "       PULocationID  DOLocationID  payment_type   fare_amount         extra  \\\n",
              "count  1.793117e+08  1.793117e+08  1.793117e+08  1.793117e+08  1.793117e+08   \n",
              "mean   1.637911e+02  1.617755e+02  1.349501e+00  1.262162e+01  1.064549e+00   \n",
              "std    6.599441e+01  7.044308e+01  7.198644e-01  1.050185e+04  3.736028e+01   \n",
              "min    1.000000e+00  1.000000e+00  1.000000e+00 -1.333914e+08 -6.000000e+01   \n",
              "25%    1.370000e+02  1.320000e+02  1.000000e+00  8.500000e+00  0.000000e+00   \n",
              "50%    1.630000e+02  1.630000e+02  1.000000e+00  1.250000e+01  1.000000e+00   \n",
              "75%    2.360000e+02  2.360000e+02  4.000000e+00  2.610000e+01  2.750000e+00   \n",
              "max    2.650000e+02  2.650000e+02  5.000000e+00  9.983100e+05  5.000008e+05   \n",
              "\n",
              "            mta_tax    tip_amount  tolls_amount  improvement_surcharge  \\\n",
              "count  1.793117e+08  1.793117e+08  1.793117e+08           1.793117e+08   \n",
              "mean   4.952468e-01  3.319861e+00  4.097364e-01           3.020870e-01   \n",
              "std    3.733934e+01  1.050032e+04  1.847462e+00           6.781555e-02   \n",
              "min   -5.500000e-01 -4.932200e+02 -9.999000e+01          -1.000000e+00   \n",
              "25%    5.000000e-01  1.000000e+00  0.000000e+00           3.000000e-01   \n",
              "50%    5.000000e-01  2.340000e+00  0.000000e+00           3.000000e-01   \n",
              "75%    5.000000e-01  4.820000e+00  0.000000e+00           3.000000e-01   \n",
              "max    5.000005e+05  1.333914e+08  3.288000e+03           1.000000e+00   \n",
              "\n",
              "       total_amount  congestion_surcharge   airport_fee  \n",
              "count  1.793117e+08          1.706512e+08  6.355071e+07  \n",
              "mean   1.969599e+01          2.241222e+00  8.722807e-02  \n",
              "std    1.986252e+02          7.857634e-01  3.212864e-01  \n",
              "min   -2.567800e+03         -2.500000e+00 -1.250000e+00  \n",
              "25%    1.280000e+01          2.500000e+00  0.000000e+00  \n",
              "50%    1.716000e+01          2.500000e+00  0.000000e+00  \n",
              "75%    3.444000e+01          2.500000e+00  0.000000e+00  \n",
              "max    1.084772e+06          4.500000e+00  1.250000e+00  "
            ],
            "text/html": [
              "\n",
              "  <div id=\"df-91fc3967-e6a6-4cd8-a899-54c8ac559a02\">\n",
              "    <div class=\"colab-df-container\">\n",
              "      <div>\n",
              "<style scoped>\n",
              "    .dataframe tbody tr th:only-of-type {\n",
              "        vertical-align: middle;\n",
              "    }\n",
              "\n",
              "    .dataframe tbody tr th {\n",
              "        vertical-align: top;\n",
              "    }\n",
              "\n",
              "    .dataframe thead th {\n",
              "        text-align: right;\n",
              "    }\n",
              "</style>\n",
              "<table border=\"1\" class=\"dataframe\">\n",
              "  <thead>\n",
              "    <tr style=\"text-align: right;\">\n",
              "      <th></th>\n",
              "      <th>VendorID</th>\n",
              "      <th>passenger_count</th>\n",
              "      <th>trip_distance</th>\n",
              "      <th>RatecodeID</th>\n",
              "      <th>PULocationID</th>\n",
              "      <th>DOLocationID</th>\n",
              "      <th>payment_type</th>\n",
              "      <th>fare_amount</th>\n",
              "      <th>extra</th>\n",
              "      <th>mta_tax</th>\n",
              "      <th>tip_amount</th>\n",
              "      <th>tolls_amount</th>\n",
              "      <th>improvement_surcharge</th>\n",
              "      <th>total_amount</th>\n",
              "      <th>congestion_surcharge</th>\n",
              "      <th>airport_fee</th>\n",
              "    </tr>\n",
              "  </thead>\n",
              "  <tbody>\n",
              "    <tr>\n",
              "      <th>count</th>\n",
              "      <td>1.793117e+08</td>\n",
              "      <td>1.754395e+08</td>\n",
              "      <td>1.793117e+08</td>\n",
              "      <td>1.754395e+08</td>\n",
              "      <td>1.793117e+08</td>\n",
              "      <td>1.793117e+08</td>\n",
              "      <td>1.793117e+08</td>\n",
              "      <td>1.793117e+08</td>\n",
              "      <td>1.793117e+08</td>\n",
              "      <td>1.793117e+08</td>\n",
              "      <td>1.793117e+08</td>\n",
              "      <td>1.793117e+08</td>\n",
              "      <td>1.793117e+08</td>\n",
              "      <td>1.793117e+08</td>\n",
              "      <td>1.706512e+08</td>\n",
              "      <td>6.355071e+07</td>\n",
              "    </tr>\n",
              "    <tr>\n",
              "      <th>mean</th>\n",
              "      <td>1.671094e+00</td>\n",
              "      <td>1.492676e+00</td>\n",
              "      <td>4.405538e+00</td>\n",
              "      <td>1.143369e+00</td>\n",
              "      <td>1.637911e+02</td>\n",
              "      <td>1.617755e+02</td>\n",
              "      <td>1.349501e+00</td>\n",
              "      <td>1.262162e+01</td>\n",
              "      <td>1.064549e+00</td>\n",
              "      <td>4.952468e-01</td>\n",
              "      <td>3.319861e+00</td>\n",
              "      <td>4.097364e-01</td>\n",
              "      <td>3.020870e-01</td>\n",
              "      <td>1.969599e+01</td>\n",
              "      <td>2.241222e+00</td>\n",
              "      <td>8.722807e-02</td>\n",
              "    </tr>\n",
              "    <tr>\n",
              "      <th>std</th>\n",
              "      <td>4.698158e-01</td>\n",
              "      <td>1.119885e+00</td>\n",
              "      <td>4.219229e+02</td>\n",
              "      <td>2.890464e+00</td>\n",
              "      <td>6.599441e+01</td>\n",
              "      <td>7.044308e+01</td>\n",
              "      <td>7.198644e-01</td>\n",
              "      <td>1.050185e+04</td>\n",
              "      <td>3.736028e+01</td>\n",
              "      <td>3.733934e+01</td>\n",
              "      <td>1.050032e+04</td>\n",
              "      <td>1.847462e+00</td>\n",
              "      <td>6.781555e-02</td>\n",
              "      <td>1.986252e+02</td>\n",
              "      <td>7.857634e-01</td>\n",
              "      <td>3.212864e-01</td>\n",
              "    </tr>\n",
              "    <tr>\n",
              "      <th>min</th>\n",
              "      <td>1.000000e+00</td>\n",
              "      <td>0.000000e+00</td>\n",
              "      <td>-3.726453e+04</td>\n",
              "      <td>1.000000e+00</td>\n",
              "      <td>1.000000e+00</td>\n",
              "      <td>1.000000e+00</td>\n",
              "      <td>1.000000e+00</td>\n",
              "      <td>-1.333914e+08</td>\n",
              "      <td>-6.000000e+01</td>\n",
              "      <td>-5.500000e-01</td>\n",
              "      <td>-4.932200e+02</td>\n",
              "      <td>-9.999000e+01</td>\n",
              "      <td>-1.000000e+00</td>\n",
              "      <td>-2.567800e+03</td>\n",
              "      <td>-2.500000e+00</td>\n",
              "      <td>-1.250000e+00</td>\n",
              "    </tr>\n",
              "    <tr>\n",
              "      <th>25%</th>\n",
              "      <td>2.000000e+00</td>\n",
              "      <td>1.000000e+00</td>\n",
              "      <td>1.390000e+00</td>\n",
              "      <td>1.000000e+00</td>\n",
              "      <td>1.370000e+02</td>\n",
              "      <td>1.320000e+02</td>\n",
              "      <td>1.000000e+00</td>\n",
              "      <td>8.500000e+00</td>\n",
              "      <td>0.000000e+00</td>\n",
              "      <td>5.000000e-01</td>\n",
              "      <td>1.000000e+00</td>\n",
              "      <td>0.000000e+00</td>\n",
              "      <td>3.000000e-01</td>\n",
              "      <td>1.280000e+01</td>\n",
              "      <td>2.500000e+00</td>\n",
              "      <td>0.000000e+00</td>\n",
              "    </tr>\n",
              "    <tr>\n",
              "      <th>50%</th>\n",
              "      <td>2.000000e+00</td>\n",
              "      <td>1.000000e+00</td>\n",
              "      <td>2.530000e+00</td>\n",
              "      <td>1.000000e+00</td>\n",
              "      <td>1.630000e+02</td>\n",
              "      <td>1.630000e+02</td>\n",
              "      <td>1.000000e+00</td>\n",
              "      <td>1.250000e+01</td>\n",
              "      <td>1.000000e+00</td>\n",
              "      <td>5.000000e-01</td>\n",
              "      <td>2.340000e+00</td>\n",
              "      <td>0.000000e+00</td>\n",
              "      <td>3.000000e-01</td>\n",
              "      <td>1.716000e+01</td>\n",
              "      <td>2.500000e+00</td>\n",
              "      <td>0.000000e+00</td>\n",
              "    </tr>\n",
              "    <tr>\n",
              "      <th>75%</th>\n",
              "      <td>2.000000e+00</td>\n",
              "      <td>2.000000e+00</td>\n",
              "      <td>6.420000e+00</td>\n",
              "      <td>1.000000e+00</td>\n",
              "      <td>2.360000e+02</td>\n",
              "      <td>2.360000e+02</td>\n",
              "      <td>4.000000e+00</td>\n",
              "      <td>2.610000e+01</td>\n",
              "      <td>2.750000e+00</td>\n",
              "      <td>5.000000e-01</td>\n",
              "      <td>4.820000e+00</td>\n",
              "      <td>0.000000e+00</td>\n",
              "      <td>3.000000e-01</td>\n",
              "      <td>3.444000e+01</td>\n",
              "      <td>2.500000e+00</td>\n",
              "      <td>0.000000e+00</td>\n",
              "    </tr>\n",
              "    <tr>\n",
              "      <th>max</th>\n",
              "      <td>2.000000e+00</td>\n",
              "      <td>1.120000e+02</td>\n",
              "      <td>3.896785e+05</td>\n",
              "      <td>9.900000e+01</td>\n",
              "      <td>2.650000e+02</td>\n",
              "      <td>2.650000e+02</td>\n",
              "      <td>5.000000e+00</td>\n",
              "      <td>9.983100e+05</td>\n",
              "      <td>5.000008e+05</td>\n",
              "      <td>5.000005e+05</td>\n",
              "      <td>1.333914e+08</td>\n",
              "      <td>3.288000e+03</td>\n",
              "      <td>1.000000e+00</td>\n",
              "      <td>1.084772e+06</td>\n",
              "      <td>4.500000e+00</td>\n",
              "      <td>1.250000e+00</td>\n",
              "    </tr>\n",
              "  </tbody>\n",
              "</table>\n",
              "</div>\n",
              "      <button class=\"colab-df-convert\" onclick=\"convertToInteractive('df-91fc3967-e6a6-4cd8-a899-54c8ac559a02')\"\n",
              "              title=\"Convert this dataframe to an interactive table.\"\n",
              "              style=\"display:none;\">\n",
              "        \n",
              "  <svg xmlns=\"http://www.w3.org/2000/svg\" height=\"24px\"viewBox=\"0 0 24 24\"\n",
              "       width=\"24px\">\n",
              "    <path d=\"M0 0h24v24H0V0z\" fill=\"none\"/>\n",
              "    <path d=\"M18.56 5.44l.94 2.06.94-2.06 2.06-.94-2.06-.94-.94-2.06-.94 2.06-2.06.94zm-11 1L8.5 8.5l.94-2.06 2.06-.94-2.06-.94L8.5 2.5l-.94 2.06-2.06.94zm10 10l.94 2.06.94-2.06 2.06-.94-2.06-.94-.94-2.06-.94 2.06-2.06.94z\"/><path d=\"M17.41 7.96l-1.37-1.37c-.4-.4-.92-.59-1.43-.59-.52 0-1.04.2-1.43.59L10.3 9.45l-7.72 7.72c-.78.78-.78 2.05 0 2.83L4 21.41c.39.39.9.59 1.41.59.51 0 1.02-.2 1.41-.59l7.78-7.78 2.81-2.81c.8-.78.8-2.07 0-2.86zM5.41 20L4 18.59l7.72-7.72 1.47 1.35L5.41 20z\"/>\n",
              "  </svg>\n",
              "      </button>\n",
              "      \n",
              "  <style>\n",
              "    .colab-df-container {\n",
              "      display:flex;\n",
              "      flex-wrap:wrap;\n",
              "      gap: 12px;\n",
              "    }\n",
              "\n",
              "    .colab-df-convert {\n",
              "      background-color: #E8F0FE;\n",
              "      border: none;\n",
              "      border-radius: 50%;\n",
              "      cursor: pointer;\n",
              "      display: none;\n",
              "      fill: #1967D2;\n",
              "      height: 32px;\n",
              "      padding: 0 0 0 0;\n",
              "      width: 32px;\n",
              "    }\n",
              "\n",
              "    .colab-df-convert:hover {\n",
              "      background-color: #E2EBFA;\n",
              "      box-shadow: 0px 1px 2px rgba(60, 64, 67, 0.3), 0px 1px 3px 1px rgba(60, 64, 67, 0.15);\n",
              "      fill: #174EA6;\n",
              "    }\n",
              "\n",
              "    [theme=dark] .colab-df-convert {\n",
              "      background-color: #3B4455;\n",
              "      fill: #D2E3FC;\n",
              "    }\n",
              "\n",
              "    [theme=dark] .colab-df-convert:hover {\n",
              "      background-color: #434B5C;\n",
              "      box-shadow: 0px 1px 3px 1px rgba(0, 0, 0, 0.15);\n",
              "      filter: drop-shadow(0px 1px 2px rgba(0, 0, 0, 0.3));\n",
              "      fill: #FFFFFF;\n",
              "    }\n",
              "  </style>\n",
              "\n",
              "      <script>\n",
              "        const buttonEl =\n",
              "          document.querySelector('#df-91fc3967-e6a6-4cd8-a899-54c8ac559a02 button.colab-df-convert');\n",
              "        buttonEl.style.display =\n",
              "          google.colab.kernel.accessAllowed ? 'block' : 'none';\n",
              "\n",
              "        async function convertToInteractive(key) {\n",
              "          const element = document.querySelector('#df-91fc3967-e6a6-4cd8-a899-54c8ac559a02');\n",
              "          const dataTable =\n",
              "            await google.colab.kernel.invokeFunction('convertToInteractive',\n",
              "                                                     [key], {});\n",
              "          if (!dataTable) return;\n",
              "\n",
              "          const docLinkHtml = 'Like what you see? Visit the ' +\n",
              "            '<a target=\"_blank\" href=https://colab.research.google.com/notebooks/data_table.ipynb>data table notebook</a>'\n",
              "            + ' to learn more about interactive tables.';\n",
              "          element.innerHTML = '';\n",
              "          dataTable['output_type'] = 'display_data';\n",
              "          await google.colab.output.renderOutput(dataTable, element);\n",
              "          const docLink = document.createElement('div');\n",
              "          docLink.innerHTML = docLinkHtml;\n",
              "          element.appendChild(docLink);\n",
              "        }\n",
              "      </script>\n",
              "    </div>\n",
              "  </div>\n",
              "  "
            ]
          },
          "metadata": {},
          "execution_count": 40
        }
      ]
    },
    {
      "cell_type": "code",
      "source": [
        "df.payment_type.value_counts().compute()"
      ],
      "metadata": {
        "colab": {
          "base_uri": "https://localhost:8080/"
        },
        "id": "5Oo8Mgt9xnEZ",
        "outputId": "4d8c50a4-a12f-449d-9fcf-00b8c8136487"
      },
      "execution_count": 33,
      "outputs": [
        {
          "output_type": "execute_result",
          "data": {
            "text/plain": [
              "1    122751631\n",
              "2     40466949\n",
              "3       758470\n",
              "4       545424\n",
              "5           17\n",
              "Name: payment_type, dtype: int64"
            ]
          },
          "metadata": {},
          "execution_count": 33
        }
      ]
    },
    {
      "cell_type": "markdown",
      "source": [
        "# Cleaning the Missing & Outlier Values "
      ],
      "metadata": {
        "id": "rfXeZvLdfmQj"
      }
    },
    {
      "cell_type": "markdown",
      "source": [
        "## Passanger Count"
      ],
      "metadata": {
        "id": "zyGg4xPlHdOG"
      }
    },
    {
      "cell_type": "code",
      "source": [
        "client = Client()\n",
        "\n",
        "df = df.map_partitions(lambda partition: partition.loc[partition['passenger_count'] <= 4])\n",
        "\n",
        "client.close()\n"
      ],
      "metadata": {
        "colab": {
          "base_uri": "https://localhost:8080/"
        },
        "id": "HyXZcwbgdSrY",
        "outputId": "ada226cd-ef39-47d7-ceb6-693677a59066"
      },
      "execution_count": 47,
      "outputs": [
        {
          "output_type": "stream",
          "name": "stderr",
          "text": [
            "INFO:distributed.scheduler:State start\n",
            "INFO:distributed.scheduler:  Scheduler at:     tcp://127.0.0.1:35509\n",
            "INFO:distributed.scheduler:  dashboard at:           127.0.0.1:42651\n",
            "INFO:distributed.nanny:        Start Nanny at: 'tcp://127.0.0.1:33079'\n",
            "INFO:distributed.nanny:        Start Nanny at: 'tcp://127.0.0.1:37991'\n",
            "INFO:distributed.scheduler:Register worker <WorkerState 'tcp://127.0.0.1:46517', name: 0, status: init, memory: 0, processing: 0>\n",
            "INFO:distributed.scheduler:Starting worker compute stream, tcp://127.0.0.1:46517\n",
            "INFO:distributed.core:Starting established connection to tcp://127.0.0.1:36156\n",
            "INFO:distributed.scheduler:Register worker <WorkerState 'tcp://127.0.0.1:35037', name: 1, status: init, memory: 0, processing: 0>\n",
            "INFO:distributed.scheduler:Starting worker compute stream, tcp://127.0.0.1:35037\n",
            "INFO:distributed.core:Starting established connection to tcp://127.0.0.1:36158\n",
            "INFO:distributed.scheduler:Receive client connection: Client-4dcfd226-06dd-11ee-8e08-0242ac1c000c\n",
            "INFO:distributed.core:Starting established connection to tcp://127.0.0.1:36170\n",
            "INFO:distributed.nanny:Closing Nanny at 'tcp://127.0.0.1:33079'. Reason: nanny-close\n",
            "INFO:distributed.nanny:Nanny asking worker to close. Reason: nanny-close\n",
            "INFO:distributed.nanny:Closing Nanny at 'tcp://127.0.0.1:37991'. Reason: nanny-close\n",
            "INFO:distributed.nanny:Nanny asking worker to close. Reason: nanny-close\n",
            "INFO:distributed.core:Received 'close-stream' from tcp://127.0.0.1:36158; closing.\n",
            "INFO:distributed.scheduler:Remove worker <WorkerState 'tcp://127.0.0.1:35037', name: 1, status: closing, memory: 0, processing: 0>\n",
            "INFO:distributed.core:Removing comms to tcp://127.0.0.1:35037\n",
            "INFO:distributed.core:Received 'close-stream' from tcp://127.0.0.1:36156; closing.\n",
            "INFO:distributed.scheduler:Remove worker <WorkerState 'tcp://127.0.0.1:46517', name: 0, status: closing, memory: 0, processing: 0>\n",
            "INFO:distributed.core:Removing comms to tcp://127.0.0.1:46517\n",
            "INFO:distributed.scheduler:Lost all workers\n",
            "INFO:distributed.scheduler:Scheduler closing...\n",
            "INFO:distributed.scheduler:Scheduler closing all comms\n"
          ]
        }
      ]
    },
    {
      "cell_type": "markdown",
      "source": [
        "## Trip Distance"
      ],
      "metadata": {
        "id": "UNF-nrB3M4hP"
      }
    },
    {
      "cell_type": "code",
      "source": [
        "client = Client()\n",
        "\n",
        "df = df.map_partitions(lambda partition: partition.loc[partition['trip_distance'] > 0])\n",
        "\n",
        "client.close()"
      ],
      "metadata": {
        "colab": {
          "base_uri": "https://localhost:8080/"
        },
        "id": "CnQlsrP8ZuHY",
        "outputId": "0008821e-b9c8-4616-e5e6-6153e8bf07f7"
      },
      "execution_count": 48,
      "outputs": [
        {
          "output_type": "stream",
          "name": "stderr",
          "text": [
            "INFO:distributed.scheduler:State start\n",
            "INFO:distributed.scheduler:  Scheduler at:     tcp://127.0.0.1:39733\n",
            "INFO:distributed.scheduler:  dashboard at:           127.0.0.1:32871\n",
            "INFO:distributed.nanny:        Start Nanny at: 'tcp://127.0.0.1:45867'\n",
            "INFO:distributed.nanny:        Start Nanny at: 'tcp://127.0.0.1:33919'\n",
            "INFO:distributed.scheduler:Register worker <WorkerState 'tcp://127.0.0.1:45473', name: 0, status: init, memory: 0, processing: 0>\n",
            "INFO:distributed.scheduler:Starting worker compute stream, tcp://127.0.0.1:45473\n",
            "INFO:distributed.core:Starting established connection to tcp://127.0.0.1:43122\n",
            "INFO:distributed.scheduler:Register worker <WorkerState 'tcp://127.0.0.1:36025', name: 1, status: init, memory: 0, processing: 0>\n",
            "INFO:distributed.scheduler:Starting worker compute stream, tcp://127.0.0.1:36025\n",
            "INFO:distributed.core:Starting established connection to tcp://127.0.0.1:43120\n",
            "INFO:distributed.scheduler:Receive client connection: Client-5044d42a-06dd-11ee-8e08-0242ac1c000c\n",
            "INFO:distributed.core:Starting established connection to tcp://127.0.0.1:43138\n",
            "INFO:distributed.nanny:Closing Nanny at 'tcp://127.0.0.1:45867'. Reason: nanny-close\n",
            "INFO:distributed.nanny:Nanny asking worker to close. Reason: nanny-close\n",
            "INFO:distributed.nanny:Closing Nanny at 'tcp://127.0.0.1:33919'. Reason: nanny-close\n",
            "INFO:distributed.nanny:Nanny asking worker to close. Reason: nanny-close\n",
            "INFO:distributed.core:Received 'close-stream' from tcp://127.0.0.1:43122; closing.\n",
            "INFO:distributed.scheduler:Remove worker <WorkerState 'tcp://127.0.0.1:45473', name: 0, status: closing, memory: 0, processing: 0>\n",
            "INFO:distributed.core:Removing comms to tcp://127.0.0.1:45473\n",
            "INFO:distributed.core:Received 'close-stream' from tcp://127.0.0.1:43120; closing.\n",
            "INFO:distributed.scheduler:Remove worker <WorkerState 'tcp://127.0.0.1:36025', name: 1, status: closing, memory: 0, processing: 0>\n",
            "INFO:distributed.core:Removing comms to tcp://127.0.0.1:36025\n",
            "INFO:distributed.scheduler:Lost all workers\n",
            "INFO:distributed.scheduler:Scheduler closing...\n",
            "INFO:distributed.scheduler:Scheduler closing all comms\n"
          ]
        }
      ]
    },
    {
      "cell_type": "markdown",
      "source": [
        "## Airport Fee"
      ],
      "metadata": {
        "id": "ZC_2PbVKQUDv"
      }
    },
    {
      "cell_type": "code",
      "source": [
        "df = df.loc[~df['airport_fee'].isin([0.50, -1.25])]\n",
        "df['airport_fee'] = df['airport_fee'].fillna(0.0)"
      ],
      "metadata": {
        "id": "bqlLxtBRQVub"
      },
      "execution_count": 49,
      "outputs": []
    },
    {
      "cell_type": "markdown",
      "source": [
        "## RatecodeID & store_and_fwd_flag"
      ],
      "metadata": {
        "id": "E26zcyb6yG-E"
      }
    },
    {
      "cell_type": "code",
      "source": [
        "df = df.dropna(subset=['RatecodeID', 'store_and_fwd_flag'])"
      ],
      "metadata": {
        "id": "uM1ROYl0ahBn"
      },
      "execution_count": 51,
      "outputs": []
    },
    {
      "cell_type": "markdown",
      "source": [
        "##Congestion Surcharge"
      ],
      "metadata": {
        "id": "fYT214-VyTAe"
      }
    },
    {
      "cell_type": "code",
      "source": [
        "df = df.loc[~df['congestion_surcharge'].isin([-2.50,-0.75,-1.50 ])]\n",
        "df['congestion_surcharge'] = df['congestion_surcharge'].fillna(2.50)"
      ],
      "metadata": {
        "id": "If19yzQ4ahu1"
      },
      "execution_count": 52,
      "outputs": []
    },
    {
      "cell_type": "markdown",
      "source": [
        "## Fare Amount"
      ],
      "metadata": {
        "id": "MaQrFomjy57y"
      }
    },
    {
      "cell_type": "code",
      "source": [
        "client = Client()\n",
        "\n",
        "df = df.map_partitions(lambda partition: partition.loc[partition['fare_amount'] > 0])\n",
        "\n",
        "client.close()"
      ],
      "metadata": {
        "colab": {
          "base_uri": "https://localhost:8080/"
        },
        "id": "LwtD5el5y5H4",
        "outputId": "5011d8a0-b009-4d35-d345-200b1a0c8ea0"
      },
      "execution_count": 53,
      "outputs": [
        {
          "output_type": "stream",
          "name": "stderr",
          "text": [
            "INFO:distributed.scheduler:State start\n",
            "INFO:distributed.scheduler:  Scheduler at:     tcp://127.0.0.1:40325\n",
            "INFO:distributed.scheduler:  dashboard at:           127.0.0.1:34247\n",
            "INFO:distributed.nanny:        Start Nanny at: 'tcp://127.0.0.1:37199'\n",
            "INFO:distributed.nanny:        Start Nanny at: 'tcp://127.0.0.1:45499'\n",
            "INFO:distributed.scheduler:Register worker <WorkerState 'tcp://127.0.0.1:38671', name: 0, status: init, memory: 0, processing: 0>\n",
            "INFO:distributed.scheduler:Starting worker compute stream, tcp://127.0.0.1:38671\n",
            "INFO:distributed.core:Starting established connection to tcp://127.0.0.1:38222\n",
            "INFO:distributed.scheduler:Register worker <WorkerState 'tcp://127.0.0.1:45353', name: 1, status: init, memory: 0, processing: 0>\n",
            "INFO:distributed.scheduler:Starting worker compute stream, tcp://127.0.0.1:45353\n",
            "INFO:distributed.core:Starting established connection to tcp://127.0.0.1:38232\n",
            "INFO:distributed.scheduler:Receive client connection: Client-5c95a26a-06dd-11ee-8e08-0242ac1c000c\n",
            "INFO:distributed.core:Starting established connection to tcp://127.0.0.1:38244\n",
            "INFO:distributed.nanny:Closing Nanny at 'tcp://127.0.0.1:37199'. Reason: nanny-close\n",
            "INFO:distributed.nanny:Nanny asking worker to close. Reason: nanny-close\n",
            "INFO:distributed.nanny:Closing Nanny at 'tcp://127.0.0.1:45499'. Reason: nanny-close\n",
            "INFO:distributed.nanny:Nanny asking worker to close. Reason: nanny-close\n",
            "INFO:distributed.core:Received 'close-stream' from tcp://127.0.0.1:38222; closing.\n",
            "INFO:distributed.scheduler:Remove worker <WorkerState 'tcp://127.0.0.1:38671', name: 0, status: closing, memory: 0, processing: 0>\n",
            "INFO:distributed.core:Removing comms to tcp://127.0.0.1:38671\n",
            "INFO:distributed.core:Received 'close-stream' from tcp://127.0.0.1:38232; closing.\n",
            "INFO:distributed.scheduler:Remove worker <WorkerState 'tcp://127.0.0.1:45353', name: 1, status: closing, memory: 0, processing: 0>\n",
            "INFO:distributed.core:Removing comms to tcp://127.0.0.1:45353\n",
            "INFO:distributed.scheduler:Lost all workers\n",
            "INFO:distributed.scheduler:Scheduler closing...\n",
            "INFO:distributed.scheduler:Scheduler closing all comms\n"
          ]
        }
      ]
    },
    {
      "cell_type": "markdown",
      "source": [
        "## Extra"
      ],
      "metadata": {
        "id": "y1ODWrOx0AyR"
      }
    },
    {
      "cell_type": "code",
      "source": [
        "client = Client()\n",
        "\n",
        "df = df.map_partitions(lambda partition: partition.loc[partition['extra'] >= 0])\n",
        "\n",
        "client.close()"
      ],
      "metadata": {
        "colab": {
          "base_uri": "https://localhost:8080/"
        },
        "id": "yhCsJH5-z_w9",
        "outputId": "54d418c7-e950-40c1-b307-5eff1689917f"
      },
      "execution_count": 54,
      "outputs": [
        {
          "output_type": "stream",
          "name": "stderr",
          "text": [
            "INFO:distributed.scheduler:State start\n",
            "INFO:distributed.scheduler:  Scheduler at:     tcp://127.0.0.1:43207\n",
            "INFO:distributed.scheduler:  dashboard at:           127.0.0.1:39123\n",
            "INFO:distributed.nanny:        Start Nanny at: 'tcp://127.0.0.1:45503'\n",
            "INFO:distributed.nanny:        Start Nanny at: 'tcp://127.0.0.1:45481'\n",
            "INFO:distributed.scheduler:Register worker <WorkerState 'tcp://127.0.0.1:44007', name: 0, status: init, memory: 0, processing: 0>\n",
            "INFO:distributed.scheduler:Starting worker compute stream, tcp://127.0.0.1:44007\n",
            "INFO:distributed.core:Starting established connection to tcp://127.0.0.1:57908\n",
            "INFO:distributed.scheduler:Register worker <WorkerState 'tcp://127.0.0.1:34455', name: 1, status: init, memory: 0, processing: 0>\n",
            "INFO:distributed.scheduler:Starting worker compute stream, tcp://127.0.0.1:34455\n",
            "INFO:distributed.core:Starting established connection to tcp://127.0.0.1:57920\n",
            "INFO:distributed.scheduler:Receive client connection: Client-5e0935a9-06dd-11ee-8e08-0242ac1c000c\n",
            "INFO:distributed.core:Starting established connection to tcp://127.0.0.1:57926\n",
            "INFO:distributed.nanny:Closing Nanny at 'tcp://127.0.0.1:45503'. Reason: nanny-close\n",
            "INFO:distributed.nanny:Nanny asking worker to close. Reason: nanny-close\n",
            "INFO:distributed.nanny:Closing Nanny at 'tcp://127.0.0.1:45481'. Reason: nanny-close\n",
            "INFO:distributed.nanny:Nanny asking worker to close. Reason: nanny-close\n",
            "INFO:distributed.core:Received 'close-stream' from tcp://127.0.0.1:57908; closing.\n",
            "INFO:distributed.scheduler:Remove worker <WorkerState 'tcp://127.0.0.1:44007', name: 0, status: closing, memory: 0, processing: 0>\n",
            "INFO:distributed.core:Removing comms to tcp://127.0.0.1:44007\n",
            "INFO:distributed.core:Received 'close-stream' from tcp://127.0.0.1:57920; closing.\n",
            "INFO:distributed.scheduler:Remove worker <WorkerState 'tcp://127.0.0.1:34455', name: 1, status: closing, memory: 0, processing: 0>\n",
            "INFO:distributed.core:Removing comms to tcp://127.0.0.1:34455\n",
            "INFO:distributed.scheduler:Lost all workers\n",
            "INFO:distributed.scheduler:Scheduler closing...\n",
            "INFO:distributed.scheduler:Scheduler closing all comms\n"
          ]
        }
      ]
    },
    {
      "cell_type": "markdown",
      "source": [
        "##MTA Tax"
      ],
      "metadata": {
        "id": "7hzGkrfR0I9x"
      }
    },
    {
      "cell_type": "code",
      "source": [
        "client = Client()\n",
        "\n",
        "df = df.map_partitions(lambda partition: partition.loc[partition['mta_tax'] >= 0])\n",
        "\n",
        "client.close()"
      ],
      "metadata": {
        "colab": {
          "base_uri": "https://localhost:8080/"
        },
        "id": "JXnQvx-m0Gvf",
        "outputId": "245565eb-6ce6-4adb-c0f7-f8120bbb813a"
      },
      "execution_count": 55,
      "outputs": [
        {
          "output_type": "stream",
          "name": "stderr",
          "text": [
            "INFO:distributed.scheduler:State start\n",
            "INFO:distributed.scheduler:  Scheduler at:     tcp://127.0.0.1:40653\n",
            "INFO:distributed.scheduler:  dashboard at:           127.0.0.1:43307\n",
            "INFO:distributed.nanny:        Start Nanny at: 'tcp://127.0.0.1:46699'\n",
            "INFO:distributed.nanny:        Start Nanny at: 'tcp://127.0.0.1:40651'\n",
            "INFO:distributed.scheduler:Register worker <WorkerState 'tcp://127.0.0.1:33817', name: 1, status: init, memory: 0, processing: 0>\n",
            "INFO:distributed.scheduler:Starting worker compute stream, tcp://127.0.0.1:33817\n",
            "INFO:distributed.core:Starting established connection to tcp://127.0.0.1:51942\n",
            "INFO:distributed.scheduler:Register worker <WorkerState 'tcp://127.0.0.1:33785', name: 0, status: init, memory: 0, processing: 0>\n",
            "INFO:distributed.scheduler:Starting worker compute stream, tcp://127.0.0.1:33785\n",
            "INFO:distributed.core:Starting established connection to tcp://127.0.0.1:51928\n",
            "INFO:distributed.scheduler:Receive client connection: Client-5f7bdb25-06dd-11ee-8e08-0242ac1c000c\n",
            "INFO:distributed.core:Starting established connection to tcp://127.0.0.1:51946\n",
            "INFO:distributed.nanny:Closing Nanny at 'tcp://127.0.0.1:46699'. Reason: nanny-close\n",
            "INFO:distributed.nanny:Nanny asking worker to close. Reason: nanny-close\n",
            "INFO:distributed.nanny:Closing Nanny at 'tcp://127.0.0.1:40651'. Reason: nanny-close\n",
            "INFO:distributed.nanny:Nanny asking worker to close. Reason: nanny-close\n",
            "INFO:distributed.core:Received 'close-stream' from tcp://127.0.0.1:51928; closing.\n",
            "INFO:distributed.scheduler:Remove worker <WorkerState 'tcp://127.0.0.1:33785', name: 0, status: closing, memory: 0, processing: 0>\n",
            "INFO:distributed.core:Removing comms to tcp://127.0.0.1:33785\n",
            "INFO:distributed.core:Received 'close-stream' from tcp://127.0.0.1:51942; closing.\n",
            "INFO:distributed.scheduler:Remove worker <WorkerState 'tcp://127.0.0.1:33817', name: 1, status: closing, memory: 0, processing: 0>\n",
            "INFO:distributed.core:Removing comms to tcp://127.0.0.1:33817\n",
            "INFO:distributed.scheduler:Lost all workers\n",
            "INFO:distributed.scheduler:Scheduler closing...\n",
            "INFO:distributed.scheduler:Scheduler closing all comms\n"
          ]
        }
      ]
    },
    {
      "cell_type": "markdown",
      "source": [
        "##Improvement Surcharge"
      ],
      "metadata": {
        "id": "Ne4EuyYs0O_h"
      }
    },
    {
      "cell_type": "code",
      "source": [
        "client = Client()\n",
        "\n",
        "df = df.map_partitions(lambda partition: partition.loc[partition['improvement_surcharge'] >= 0])\n",
        "\n",
        "client.close()"
      ],
      "metadata": {
        "colab": {
          "base_uri": "https://localhost:8080/"
        },
        "id": "w4j9DwuF0WH2",
        "outputId": "8eba8488-0e10-439e-f8f5-d342d15cfbd4"
      },
      "execution_count": 56,
      "outputs": [
        {
          "output_type": "stream",
          "name": "stderr",
          "text": [
            "INFO:distributed.scheduler:State start\n",
            "INFO:distributed.scheduler:  Scheduler at:     tcp://127.0.0.1:38361\n",
            "INFO:distributed.scheduler:  dashboard at:           127.0.0.1:43723\n",
            "INFO:distributed.nanny:        Start Nanny at: 'tcp://127.0.0.1:35909'\n",
            "INFO:distributed.nanny:        Start Nanny at: 'tcp://127.0.0.1:33527'\n",
            "INFO:distributed.scheduler:Register worker <WorkerState 'tcp://127.0.0.1:42727', name: 1, status: init, memory: 0, processing: 0>\n",
            "INFO:distributed.scheduler:Starting worker compute stream, tcp://127.0.0.1:42727\n",
            "INFO:distributed.core:Starting established connection to tcp://127.0.0.1:45606\n",
            "INFO:distributed.scheduler:Register worker <WorkerState 'tcp://127.0.0.1:39605', name: 0, status: init, memory: 0, processing: 0>\n",
            "INFO:distributed.scheduler:Starting worker compute stream, tcp://127.0.0.1:39605\n",
            "INFO:distributed.core:Starting established connection to tcp://127.0.0.1:45608\n",
            "INFO:distributed.scheduler:Receive client connection: Client-60cdb723-06dd-11ee-8e08-0242ac1c000c\n",
            "INFO:distributed.core:Starting established connection to tcp://127.0.0.1:45622\n",
            "INFO:distributed.nanny:Closing Nanny at 'tcp://127.0.0.1:35909'. Reason: nanny-close\n",
            "INFO:distributed.nanny:Nanny asking worker to close. Reason: nanny-close\n",
            "INFO:distributed.nanny:Closing Nanny at 'tcp://127.0.0.1:33527'. Reason: nanny-close\n",
            "INFO:distributed.nanny:Nanny asking worker to close. Reason: nanny-close\n",
            "INFO:distributed.core:Received 'close-stream' from tcp://127.0.0.1:45608; closing.\n",
            "INFO:distributed.scheduler:Remove worker <WorkerState 'tcp://127.0.0.1:39605', name: 0, status: closing, memory: 0, processing: 0>\n",
            "INFO:distributed.core:Removing comms to tcp://127.0.0.1:39605\n",
            "INFO:distributed.core:Received 'close-stream' from tcp://127.0.0.1:45606; closing.\n",
            "INFO:distributed.scheduler:Remove worker <WorkerState 'tcp://127.0.0.1:42727', name: 1, status: closing, memory: 0, processing: 0>\n",
            "INFO:distributed.core:Removing comms to tcp://127.0.0.1:42727\n",
            "INFO:distributed.scheduler:Lost all workers\n",
            "INFO:distributed.scheduler:Scheduler closing...\n",
            "INFO:distributed.scheduler:Scheduler closing all comms\n"
          ]
        }
      ]
    },
    {
      "cell_type": "markdown",
      "source": [
        "## Tip Amount"
      ],
      "metadata": {
        "id": "y-WzBuND0h2x"
      }
    },
    {
      "cell_type": "code",
      "source": [
        "client = Client()\n",
        "\n",
        "df = df.map_partitions(lambda partition: partition.loc[partition['tip_amount'] >= 0])\n",
        "\n",
        "client.close()"
      ],
      "metadata": {
        "colab": {
          "base_uri": "https://localhost:8080/"
        },
        "id": "Trzy4RgC0amS",
        "outputId": "c87dc76a-29cf-4897-cf41-32f800ab6b0b"
      },
      "execution_count": 57,
      "outputs": [
        {
          "output_type": "stream",
          "name": "stderr",
          "text": [
            "INFO:distributed.scheduler:State start\n",
            "INFO:distributed.scheduler:  Scheduler at:     tcp://127.0.0.1:40909\n",
            "INFO:distributed.scheduler:  dashboard at:           127.0.0.1:41309\n",
            "INFO:distributed.nanny:        Start Nanny at: 'tcp://127.0.0.1:41595'\n",
            "INFO:distributed.nanny:        Start Nanny at: 'tcp://127.0.0.1:44487'\n",
            "INFO:distributed.scheduler:Register worker <WorkerState 'tcp://127.0.0.1:33533', name: 1, status: init, memory: 0, processing: 0>\n",
            "INFO:distributed.scheduler:Starting worker compute stream, tcp://127.0.0.1:33533\n",
            "INFO:distributed.core:Starting established connection to tcp://127.0.0.1:47552\n",
            "INFO:distributed.scheduler:Register worker <WorkerState 'tcp://127.0.0.1:42941', name: 0, status: init, memory: 0, processing: 0>\n",
            "INFO:distributed.scheduler:Starting worker compute stream, tcp://127.0.0.1:42941\n",
            "INFO:distributed.core:Starting established connection to tcp://127.0.0.1:47554\n",
            "INFO:distributed.scheduler:Receive client connection: Client-636984b0-06dd-11ee-8e08-0242ac1c000c\n",
            "INFO:distributed.core:Starting established connection to tcp://127.0.0.1:47568\n",
            "INFO:distributed.nanny:Closing Nanny at 'tcp://127.0.0.1:41595'. Reason: nanny-close\n",
            "INFO:distributed.nanny:Nanny asking worker to close. Reason: nanny-close\n",
            "INFO:distributed.nanny:Closing Nanny at 'tcp://127.0.0.1:44487'. Reason: nanny-close\n",
            "INFO:distributed.nanny:Nanny asking worker to close. Reason: nanny-close\n",
            "INFO:distributed.core:Received 'close-stream' from tcp://127.0.0.1:47552; closing.\n",
            "INFO:distributed.core:Received 'close-stream' from tcp://127.0.0.1:47554; closing.\n",
            "INFO:distributed.scheduler:Remove worker <WorkerState 'tcp://127.0.0.1:33533', name: 1, status: closing, memory: 0, processing: 0>\n",
            "INFO:distributed.core:Removing comms to tcp://127.0.0.1:33533\n",
            "INFO:distributed.scheduler:Remove worker <WorkerState 'tcp://127.0.0.1:42941', name: 0, status: closing, memory: 0, processing: 0>\n",
            "INFO:distributed.core:Removing comms to tcp://127.0.0.1:42941\n",
            "INFO:distributed.scheduler:Lost all workers\n",
            "INFO:distributed.scheduler:Scheduler closing...\n",
            "INFO:distributed.scheduler:Scheduler closing all comms\n"
          ]
        }
      ]
    },
    {
      "cell_type": "markdown",
      "source": [
        "## Tolls Amount"
      ],
      "metadata": {
        "id": "8SMGn0ej0kl5"
      }
    },
    {
      "cell_type": "code",
      "source": [
        "client = Client()\n",
        "\n",
        "df = df.map_partitions(lambda partition: partition.loc[partition['tolls_amount'] >= 0])\n",
        "\n",
        "client.close()"
      ],
      "metadata": {
        "colab": {
          "base_uri": "https://localhost:8080/"
        },
        "id": "L0O5Kbdl0nDt",
        "outputId": "f515498d-ba82-4253-ed09-3b808fc7fc0f"
      },
      "execution_count": 58,
      "outputs": [
        {
          "output_type": "stream",
          "name": "stderr",
          "text": [
            "INFO:distributed.scheduler:State start\n",
            "INFO:distributed.scheduler:  Scheduler at:     tcp://127.0.0.1:42915\n",
            "INFO:distributed.scheduler:  dashboard at:           127.0.0.1:33845\n",
            "INFO:distributed.nanny:        Start Nanny at: 'tcp://127.0.0.1:37213'\n",
            "INFO:distributed.nanny:        Start Nanny at: 'tcp://127.0.0.1:37537'\n",
            "INFO:distributed.scheduler:Register worker <WorkerState 'tcp://127.0.0.1:46707', name: 1, status: init, memory: 0, processing: 0>\n",
            "INFO:distributed.scheduler:Starting worker compute stream, tcp://127.0.0.1:46707\n",
            "INFO:distributed.core:Starting established connection to tcp://127.0.0.1:35214\n",
            "INFO:distributed.scheduler:Register worker <WorkerState 'tcp://127.0.0.1:40085', name: 0, status: init, memory: 0, processing: 0>\n",
            "INFO:distributed.scheduler:Starting worker compute stream, tcp://127.0.0.1:40085\n",
            "INFO:distributed.core:Starting established connection to tcp://127.0.0.1:35204\n",
            "INFO:distributed.scheduler:Receive client connection: Client-651b8949-06dd-11ee-8e08-0242ac1c000c\n",
            "INFO:distributed.core:Starting established connection to tcp://127.0.0.1:35224\n",
            "INFO:distributed.nanny:Closing Nanny at 'tcp://127.0.0.1:37213'. Reason: nanny-close\n",
            "INFO:distributed.nanny:Nanny asking worker to close. Reason: nanny-close\n",
            "INFO:distributed.nanny:Closing Nanny at 'tcp://127.0.0.1:37537'. Reason: nanny-close\n",
            "INFO:distributed.nanny:Nanny asking worker to close. Reason: nanny-close\n",
            "INFO:distributed.core:Received 'close-stream' from tcp://127.0.0.1:35204; closing.\n",
            "INFO:distributed.scheduler:Remove worker <WorkerState 'tcp://127.0.0.1:40085', name: 0, status: closing, memory: 0, processing: 0>\n",
            "INFO:distributed.core:Removing comms to tcp://127.0.0.1:40085\n",
            "INFO:distributed.core:Received 'close-stream' from tcp://127.0.0.1:35214; closing.\n",
            "INFO:distributed.scheduler:Remove worker <WorkerState 'tcp://127.0.0.1:46707', name: 1, status: closing, memory: 0, processing: 0>\n",
            "INFO:distributed.core:Removing comms to tcp://127.0.0.1:46707\n",
            "INFO:distributed.scheduler:Lost all workers\n",
            "INFO:distributed.scheduler:Scheduler closing...\n",
            "INFO:distributed.scheduler:Scheduler closing all comms\n"
          ]
        }
      ]
    },
    {
      "cell_type": "markdown",
      "source": [
        "##Total Amount"
      ],
      "metadata": {
        "id": "1rkmflkW0npF"
      }
    },
    {
      "cell_type": "code",
      "source": [
        "client = Client()\n",
        "\n",
        "df = df.map_partitions(lambda partition: partition.loc[partition['total_amount'] > 0])\n",
        "\n",
        "client.close()"
      ],
      "metadata": {
        "colab": {
          "base_uri": "https://localhost:8080/"
        },
        "id": "Wb22He5E0zer",
        "outputId": "71445965-bfd4-4dfa-865e-23be343aea14"
      },
      "execution_count": 59,
      "outputs": [
        {
          "output_type": "stream",
          "name": "stderr",
          "text": [
            "INFO:distributed.scheduler:State start\n",
            "INFO:distributed.scheduler:  Scheduler at:     tcp://127.0.0.1:37343\n",
            "INFO:distributed.scheduler:  dashboard at:           127.0.0.1:39663\n",
            "INFO:distributed.nanny:        Start Nanny at: 'tcp://127.0.0.1:45081'\n",
            "INFO:distributed.nanny:        Start Nanny at: 'tcp://127.0.0.1:40599'\n",
            "INFO:distributed.scheduler:Register worker <WorkerState 'tcp://127.0.0.1:42977', name: 0, status: init, memory: 0, processing: 0>\n",
            "INFO:distributed.scheduler:Starting worker compute stream, tcp://127.0.0.1:42977\n",
            "INFO:distributed.core:Starting established connection to tcp://127.0.0.1:38700\n",
            "INFO:distributed.scheduler:Register worker <WorkerState 'tcp://127.0.0.1:41055', name: 1, status: init, memory: 0, processing: 0>\n",
            "INFO:distributed.scheduler:Starting worker compute stream, tcp://127.0.0.1:41055\n",
            "INFO:distributed.core:Starting established connection to tcp://127.0.0.1:38696\n",
            "INFO:distributed.scheduler:Receive client connection: Client-66922501-06dd-11ee-8e08-0242ac1c000c\n",
            "INFO:distributed.core:Starting established connection to tcp://127.0.0.1:38708\n",
            "INFO:distributed.nanny:Closing Nanny at 'tcp://127.0.0.1:45081'. Reason: nanny-close\n",
            "INFO:distributed.nanny:Nanny asking worker to close. Reason: nanny-close\n",
            "INFO:distributed.nanny:Closing Nanny at 'tcp://127.0.0.1:40599'. Reason: nanny-close\n",
            "INFO:distributed.nanny:Nanny asking worker to close. Reason: nanny-close\n",
            "INFO:distributed.core:Received 'close-stream' from tcp://127.0.0.1:38700; closing.\n",
            "INFO:distributed.scheduler:Remove worker <WorkerState 'tcp://127.0.0.1:42977', name: 0, status: closing, memory: 0, processing: 0>\n",
            "INFO:distributed.core:Removing comms to tcp://127.0.0.1:42977\n",
            "INFO:distributed.core:Received 'close-stream' from tcp://127.0.0.1:38696; closing.\n",
            "INFO:distributed.scheduler:Remove worker <WorkerState 'tcp://127.0.0.1:41055', name: 1, status: closing, memory: 0, processing: 0>\n",
            "INFO:distributed.core:Removing comms to tcp://127.0.0.1:41055\n",
            "INFO:distributed.scheduler:Lost all workers\n",
            "INFO:distributed.scheduler:Scheduler closing...\n",
            "INFO:distributed.scheduler:Scheduler closing all comms\n"
          ]
        }
      ]
    },
    {
      "cell_type": "code",
      "source": [
        "client = Client()\n",
        "\n",
        "column_missing_counts = df.map_partitions(lambda partition: partition.isnull().sum()).compute()\n",
        "\n",
        "client.close()\n",
        "\n",
        "print(column_missing_counts)"
      ],
      "metadata": {
        "colab": {
          "base_uri": "https://localhost:8080/"
        },
        "id": "nhDxehbX1MYL",
        "outputId": "e20de9dd-ab02-402e-e901-fdcde5228878"
      },
      "execution_count": 61,
      "outputs": [
        {
          "output_type": "stream",
          "name": "stderr",
          "text": [
            "INFO:distributed.scheduler:State start\n",
            "INFO:distributed.scheduler:  Scheduler at:     tcp://127.0.0.1:35533\n",
            "INFO:distributed.scheduler:  dashboard at:           127.0.0.1:33009\n",
            "INFO:distributed.nanny:        Start Nanny at: 'tcp://127.0.0.1:32927'\n",
            "INFO:distributed.nanny:        Start Nanny at: 'tcp://127.0.0.1:44957'\n",
            "INFO:distributed.scheduler:Register worker <WorkerState 'tcp://127.0.0.1:32769', name: 0, status: init, memory: 0, processing: 0>\n",
            "INFO:distributed.scheduler:Starting worker compute stream, tcp://127.0.0.1:32769\n",
            "INFO:distributed.core:Starting established connection to tcp://127.0.0.1:59440\n",
            "INFO:distributed.scheduler:Register worker <WorkerState 'tcp://127.0.0.1:37247', name: 1, status: init, memory: 0, processing: 0>\n",
            "INFO:distributed.scheduler:Starting worker compute stream, tcp://127.0.0.1:37247\n",
            "INFO:distributed.core:Starting established connection to tcp://127.0.0.1:59446\n",
            "INFO:distributed.scheduler:Receive client connection: Client-63dc683f-06de-11ee-8e08-0242ac1c000c\n",
            "INFO:distributed.core:Starting established connection to tcp://127.0.0.1:59452\n",
            "ERROR:asyncio:Task exception was never retrieved\n",
            "future: <Task finished name='Task-3552951' coro=<Client._gather.<locals>.wait() done, defined at /usr/local/lib/python3.10/dist-packages/distributed/client.py:2122> exception=AllExit()>\n",
            "Traceback (most recent call last):\n",
            "  File \"/usr/local/lib/python3.10/dist-packages/distributed/client.py\", line 2131, in wait\n",
            "    raise AllExit()\n",
            "distributed.client.AllExit\n",
            "INFO:distributed.nanny:Closing Nanny at 'tcp://127.0.0.1:32927'. Reason: nanny-close\n",
            "INFO:distributed.nanny:Nanny asking worker to close. Reason: nanny-close\n",
            "INFO:distributed.nanny:Closing Nanny at 'tcp://127.0.0.1:44957'. Reason: nanny-close\n",
            "INFO:distributed.nanny:Nanny asking worker to close. Reason: nanny-close\n",
            "INFO:distributed.core:Received 'close-stream' from tcp://127.0.0.1:59446; closing.\n",
            "INFO:distributed.scheduler:Remove worker <WorkerState 'tcp://127.0.0.1:37247', name: 1, status: closing, memory: 0, processing: 0>\n",
            "INFO:distributed.core:Removing comms to tcp://127.0.0.1:37247\n",
            "INFO:distributed.core:Received 'close-stream' from tcp://127.0.0.1:59440; closing.\n",
            "INFO:distributed.scheduler:Remove worker <WorkerState 'tcp://127.0.0.1:32769', name: 0, status: closing, memory: 0, processing: 0>\n",
            "INFO:distributed.core:Removing comms to tcp://127.0.0.1:32769\n",
            "INFO:distributed.scheduler:Lost all workers\n",
            "INFO:distributed.scheduler:Scheduler closing...\n",
            "INFO:distributed.scheduler:Scheduler closing all comms\n"
          ]
        },
        {
          "output_type": "stream",
          "name": "stdout",
          "text": [
            "VendorID                 0\n",
            "tpep_pickup_datetime     0\n",
            "tpep_dropoff_datetime    0\n",
            "passenger_count          0\n",
            "trip_distance            0\n",
            "                        ..\n",
            "tolls_amount             0\n",
            "improvement_surcharge    0\n",
            "total_amount             0\n",
            "congestion_surcharge     0\n",
            "airport_fee              0\n",
            "Length: 11571, dtype: int64\n"
          ]
        }
      ]
    },
    {
      "cell_type": "code",
      "source": [
        "client = Client()\n",
        "\n",
        "shape = df.map_partitions(lambda partition: partition.shape).compute()\n",
        "\n",
        "client.close()\n",
        "\n",
        "print(shape)"
      ],
      "metadata": {
        "colab": {
          "base_uri": "https://localhost:8080/"
        },
        "id": "Dlt4AlnD1Yhu",
        "outputId": "02a2e339-19d1-4bf9-a629-45c738bf9e9f"
      },
      "execution_count": 65,
      "outputs": [
        {
          "output_type": "stream",
          "name": "stderr",
          "text": [
            "INFO:distributed.scheduler:State start\n",
            "INFO:distributed.scheduler:  Scheduler at:     tcp://127.0.0.1:35141\n",
            "INFO:distributed.scheduler:  dashboard at:           127.0.0.1:36473\n",
            "INFO:distributed.nanny:        Start Nanny at: 'tcp://127.0.0.1:38917'\n",
            "INFO:distributed.nanny:        Start Nanny at: 'tcp://127.0.0.1:41691'\n",
            "INFO:distributed.scheduler:Register worker <WorkerState 'tcp://127.0.0.1:44831', name: 1, status: init, memory: 0, processing: 0>\n",
            "INFO:distributed.scheduler:Starting worker compute stream, tcp://127.0.0.1:44831\n",
            "INFO:distributed.core:Starting established connection to tcp://127.0.0.1:51460\n",
            "INFO:distributed.scheduler:Register worker <WorkerState 'tcp://127.0.0.1:36231', name: 0, status: init, memory: 0, processing: 0>\n",
            "INFO:distributed.scheduler:Starting worker compute stream, tcp://127.0.0.1:36231\n",
            "INFO:distributed.core:Starting established connection to tcp://127.0.0.1:51464\n",
            "INFO:distributed.scheduler:Receive client connection: Client-fd3cf9a9-06e3-11ee-8e08-0242ac1c000c\n",
            "INFO:distributed.core:Starting established connection to tcp://127.0.0.1:51478\n",
            "ERROR:asyncio:Task exception was never retrieved\n",
            "future: <Task finished name='Task-4216564' coro=<Client._gather.<locals>.wait() done, defined at /usr/local/lib/python3.10/dist-packages/distributed/client.py:2122> exception=AllExit()>\n",
            "Traceback (most recent call last):\n",
            "  File \"/usr/local/lib/python3.10/dist-packages/distributed/client.py\", line 2131, in wait\n",
            "    raise AllExit()\n",
            "distributed.client.AllExit\n",
            "INFO:distributed.nanny:Closing Nanny at 'tcp://127.0.0.1:38917'. Reason: nanny-close\n",
            "INFO:distributed.nanny:Nanny asking worker to close. Reason: nanny-close\n",
            "INFO:distributed.nanny:Closing Nanny at 'tcp://127.0.0.1:41691'. Reason: nanny-close\n",
            "INFO:distributed.nanny:Nanny asking worker to close. Reason: nanny-close\n",
            "INFO:distributed.core:Received 'close-stream' from tcp://127.0.0.1:51460; closing.\n",
            "INFO:distributed.scheduler:Remove worker <WorkerState 'tcp://127.0.0.1:44831', name: 1, status: closing, memory: 0, processing: 0>\n",
            "INFO:distributed.core:Removing comms to tcp://127.0.0.1:44831\n",
            "INFO:distributed.core:Received 'close-stream' from tcp://127.0.0.1:51464; closing.\n",
            "INFO:distributed.scheduler:Remove worker <WorkerState 'tcp://127.0.0.1:36231', name: 0, status: closing, memory: 0, processing: 0>\n",
            "INFO:distributed.core:Removing comms to tcp://127.0.0.1:36231\n",
            "INFO:distributed.scheduler:Lost all workers\n",
            "2023-06-09 16:48:16,379 - distributed.nanny - WARNING - Worker process still alive after 3.199997711181641 seconds, killing\n",
            "WARNING:distributed.nanny:Worker process still alive after 3.199997711181641 seconds, killing\n",
            "2023-06-09 16:48:16,394 - distributed.nanny - WARNING - Worker process still alive after 3.199998474121094 seconds, killing\n",
            "WARNING:distributed.nanny:Worker process still alive after 3.199998474121094 seconds, killing\n",
            "INFO:distributed.nanny:Worker process 63413 was killed by signal 9\n",
            "INFO:distributed.nanny:Worker process 63416 was killed by signal 9\n",
            "INFO:distributed.scheduler:Scheduler closing...\n",
            "INFO:distributed.scheduler:Scheduler closing all comms\n"
          ]
        },
        {
          "output_type": "stream",
          "name": "stdout",
          "text": [
            "0      (279196, 19)\n",
            "1      (280966, 19)\n",
            "2      (280570, 19)\n",
            "3      (280182, 19)\n",
            "4      (281369, 19)\n",
            "           ...     \n",
            "604    (269053, 19)\n",
            "605    (270169, 19)\n",
            "606    (268652, 19)\n",
            "607    (268931, 19)\n",
            "608    (149303, 19)\n",
            "Length: 609, dtype: object\n"
          ]
        }
      ]
    },
    {
      "cell_type": "code",
      "source": [
        "client = Client()\n",
        "\n",
        "df.to_parquet('/content/sample_data/cleaned_data.parquet', engine='pyarrow')\n",
        "\n",
        "client.close()"
      ],
      "metadata": {
        "colab": {
          "base_uri": "https://localhost:8080/"
        },
        "id": "8NwkY3D07hxl",
        "outputId": "fe9e1118-535c-4dd5-f4dc-5b94ff9f1537"
      },
      "execution_count": 63,
      "outputs": [
        {
          "output_type": "stream",
          "name": "stderr",
          "text": [
            "INFO:distributed.scheduler:State start\n",
            "INFO:distributed.scheduler:  Scheduler at:     tcp://127.0.0.1:41855\n",
            "INFO:distributed.scheduler:  dashboard at:           127.0.0.1:46271\n",
            "INFO:distributed.nanny:        Start Nanny at: 'tcp://127.0.0.1:44295'\n",
            "INFO:distributed.nanny:        Start Nanny at: 'tcp://127.0.0.1:35711'\n",
            "INFO:distributed.scheduler:Register worker <WorkerState 'tcp://127.0.0.1:34649', name: 0, status: init, memory: 0, processing: 0>\n",
            "INFO:distributed.scheduler:Starting worker compute stream, tcp://127.0.0.1:34649\n",
            "INFO:distributed.core:Starting established connection to tcp://127.0.0.1:60778\n",
            "INFO:distributed.scheduler:Register worker <WorkerState 'tcp://127.0.0.1:36463', name: 1, status: init, memory: 0, processing: 0>\n",
            "INFO:distributed.scheduler:Starting worker compute stream, tcp://127.0.0.1:36463\n",
            "INFO:distributed.core:Starting established connection to tcp://127.0.0.1:60788\n",
            "INFO:distributed.scheduler:Receive client connection: Client-282ee36f-06e1-11ee-8e08-0242ac1c000c\n",
            "INFO:distributed.core:Starting established connection to tcp://127.0.0.1:60802\n",
            "ERROR:asyncio:Task exception was never retrieved\n",
            "future: <Task finished name='Task-3568531' coro=<Client._gather.<locals>.wait() done, defined at /usr/local/lib/python3.10/dist-packages/distributed/client.py:2122> exception=AllExit()>\n",
            "Traceback (most recent call last):\n",
            "  File \"/usr/local/lib/python3.10/dist-packages/distributed/client.py\", line 2131, in wait\n",
            "    raise AllExit()\n",
            "distributed.client.AllExit\n",
            "INFO:distributed.nanny:Closing Nanny at 'tcp://127.0.0.1:44295'. Reason: nanny-close\n",
            "INFO:distributed.nanny:Nanny asking worker to close. Reason: nanny-close\n",
            "INFO:distributed.nanny:Closing Nanny at 'tcp://127.0.0.1:35711'. Reason: nanny-close\n",
            "INFO:distributed.nanny:Nanny asking worker to close. Reason: nanny-close\n",
            "INFO:distributed.core:Received 'close-stream' from tcp://127.0.0.1:60788; closing.\n",
            "INFO:distributed.scheduler:Remove worker <WorkerState 'tcp://127.0.0.1:36463', name: 1, status: closing, memory: 0, processing: 0>\n",
            "INFO:distributed.core:Removing comms to tcp://127.0.0.1:36463\n",
            "INFO:distributed.core:Received 'close-stream' from tcp://127.0.0.1:60778; closing.\n",
            "INFO:distributed.scheduler:Remove worker <WorkerState 'tcp://127.0.0.1:34649', name: 0, status: closing, memory: 0, processing: 0>\n",
            "INFO:distributed.core:Removing comms to tcp://127.0.0.1:34649\n",
            "INFO:distributed.scheduler:Lost all workers\n",
            "2023-06-09 16:31:55,391 - distributed.nanny - WARNING - Worker process still alive after 3.199997711181641 seconds, killing\n",
            "WARNING:distributed.nanny:Worker process still alive after 3.199997711181641 seconds, killing\n",
            "2023-06-09 16:31:55,398 - distributed.nanny - WARNING - Worker process still alive after 3.1999986267089846 seconds, killing\n",
            "WARNING:distributed.nanny:Worker process still alive after 3.1999986267089846 seconds, killing\n",
            "INFO:distributed.nanny:Worker process 58424 was killed by signal 9\n",
            "INFO:distributed.nanny:Worker process 58426 was killed by signal 9\n",
            "INFO:distributed.scheduler:Scheduler closing...\n",
            "INFO:distributed.scheduler:Scheduler closing all comms\n"
          ]
        }
      ]
    },
    {
      "cell_type": "markdown",
      "source": [
        "# Building A Time Series "
      ],
      "metadata": {
        "id": "7wpHmoST-oXK"
      }
    },
    {
      "cell_type": "code",
      "source": [
        "df['pickup_timestamp'] = dd.to_datetime(df['tpep_pickup_datetime'])\n",
        "df['dropoff_timestamp'] = dd.to_datetime(df['tpep_dropoff_datetime'])\n",
        "df = df.set_index(['pickup_timestamp'])"
      ],
      "metadata": {
        "id": "PjW5Rhbx8v6E"
      },
      "execution_count": null,
      "outputs": []
    },
    {
      "cell_type": "code",
      "source": [],
      "metadata": {
        "id": "9ZgQzr2TBhj-"
      },
      "execution_count": null,
      "outputs": []
    }
  ]
}